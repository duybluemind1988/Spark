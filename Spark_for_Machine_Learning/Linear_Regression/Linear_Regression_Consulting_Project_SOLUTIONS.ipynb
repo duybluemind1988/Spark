{
 "cells": [
  {
   "cell_type": "markdown",
   "metadata": {},
   "source": [
    "# Linear Regression Project - SOLUTIONS"
   ]
  },
  {
   "cell_type": "markdown",
   "metadata": {
    "collapsed": true
   },
   "source": [
    "Congratulations! You've been contracted by Hyundai Heavy Industries to help them build a predictive model for some ships. [Hyundai Heavy Industries](http://www.hyundai.eu/en) is one of the world's largest ship manufacturing companies and builds cruise liners.\n",
    "\n",
    "You've been flown to their headquarters in Ulsan, South Korea to help them give accurate estimates of how many crew members a ship will require.\n",
    "\n",
    "They are currently building new ships for some customers and want you to create a model and use it to predict how many crew members the ships will need.\n",
    "\n",
    "Here is what the data looks like so far:\n",
    "\n",
    "    Description: Measurements of ship size, capacity, crew, and age for 158 cruise\n",
    "    ships.\n",
    "\n",
    "\n",
    "    Variables/Columns\n",
    "    Ship Name     1-20\n",
    "    Cruise Line   21-40\n",
    "    Age (as of 2013)   46-48\n",
    "    Tonnage (1000s of tons)   50-56\n",
    "    passengers (100s)   58-64\n",
    "    Length (100s of feet)  66-72\n",
    "    Cabins  (100s)   74-80\n",
    "    Passenger Density   82-88\n",
    "    Crew  (100s)   90-96\n",
    "    \n",
    "It is saved in a csv file for you called \"cruise_ship_info.csv\". Your job is to create a regression model that will help predict how many crew members will be needed for future ships. The client also mentioned that they have found that particular cruise lines will differ in acceptable crew counts, so it is most likely an important feature to include in your analysis! \n"
   ]
  },
  {
   "cell_type": "code",
   "execution_count": 2,
   "metadata": {},
   "outputs": [],
   "source": [
    "import findspark\r\n",
    "findspark.init()\r\n",
    "import pyspark\r\n",
    "from pyspark.sql import SparkSession\r\n",
    "spark = SparkSession.builder.appName('cruise').getOrCreate()"
   ]
  },
  {
   "cell_type": "code",
   "execution_count": 3,
   "metadata": {
    "collapsed": false
   },
   "outputs": [],
   "source": [
    "df = spark.read.csv('cruise_ship_info.csv',inferSchema=True,header=True)"
   ]
  },
  {
   "cell_type": "code",
   "execution_count": 4,
   "metadata": {
    "collapsed": false
   },
   "outputs": [
    {
     "name": "stdout",
     "output_type": "stream",
     "text": [
      "root\n",
      " |-- Ship_name: string (nullable = true)\n",
      " |-- Cruise_line: string (nullable = true)\n",
      " |-- Age: integer (nullable = true)\n",
      " |-- Tonnage: double (nullable = true)\n",
      " |-- passengers: double (nullable = true)\n",
      " |-- length: double (nullable = true)\n",
      " |-- cabins: double (nullable = true)\n",
      " |-- passenger_density: double (nullable = true)\n",
      " |-- crew: double (nullable = true)\n",
      "\n"
     ]
    }
   ],
   "source": [
    "df.printSchema()"
   ]
  },
  {
   "cell_type": "code",
   "execution_count": 5,
   "metadata": {
    "collapsed": false
   },
   "outputs": [
    {
     "name": "stdout",
     "output_type": "stream",
     "text": [
      "+-----------+-----------+---+------------------+----------+------+------+-----------------+----+\n",
      "|  Ship_name|Cruise_line|Age|           Tonnage|passengers|length|cabins|passenger_density|crew|\n",
      "+-----------+-----------+---+------------------+----------+------+------+-----------------+----+\n",
      "|    Journey|    Azamara|  6|30.276999999999997|      6.94|  5.94|  3.55|            42.64|3.55|\n",
      "|      Quest|    Azamara|  6|30.276999999999997|      6.94|  5.94|  3.55|            42.64|3.55|\n",
      "|Celebration|   Carnival| 26|            47.262|     14.86|  7.22|  7.43|             31.8| 6.7|\n",
      "|   Conquest|   Carnival| 11|             110.0|     29.74|  9.53| 14.88|            36.99|19.1|\n",
      "|    Destiny|   Carnival| 17|           101.353|     26.42|  8.92| 13.21|            38.36|10.0|\n",
      "|    Ecstasy|   Carnival| 22|            70.367|     20.52|  8.55|  10.2|            34.29| 9.2|\n",
      "|    Elation|   Carnival| 15|            70.367|     20.52|  8.55|  10.2|            34.29| 9.2|\n",
      "|    Fantasy|   Carnival| 23|            70.367|     20.56|  8.55| 10.22|            34.23| 9.2|\n",
      "|Fascination|   Carnival| 19|            70.367|     20.52|  8.55|  10.2|            34.29| 9.2|\n",
      "|    Freedom|   Carnival|  6|110.23899999999999|      37.0|  9.51| 14.87|            29.79|11.5|\n",
      "|      Glory|   Carnival| 10|             110.0|     29.74|  9.51| 14.87|            36.99|11.6|\n",
      "|    Holiday|   Carnival| 28|            46.052|     14.52|  7.27|  7.26|            31.72| 6.6|\n",
      "|Imagination|   Carnival| 18|            70.367|     20.52|  8.55|  10.2|            34.29| 9.2|\n",
      "|Inspiration|   Carnival| 17|            70.367|     20.52|  8.55|  10.2|            34.29| 9.2|\n",
      "|     Legend|   Carnival| 11|              86.0|     21.24|  9.63| 10.62|            40.49| 9.3|\n",
      "|   Liberty*|   Carnival|  8|             110.0|     29.74|  9.51| 14.87|            36.99|11.6|\n",
      "|    Miracle|   Carnival|  9|              88.5|     21.24|  9.63| 10.62|            41.67|10.3|\n",
      "|   Paradise|   Carnival| 15|            70.367|     20.52|  8.55|  10.2|            34.29| 9.2|\n",
      "|      Pride|   Carnival| 12|              88.5|     21.24|  9.63| 11.62|            41.67| 9.3|\n",
      "|  Sensation|   Carnival| 20|            70.367|     20.52|  8.55|  10.2|            34.29| 9.2|\n",
      "+-----------+-----------+---+------------------+----------+------+------+-----------------+----+\n",
      "only showing top 20 rows\n",
      "\n"
     ]
    }
   ],
   "source": [
    "df.show()"
   ]
  },
  {
   "cell_type": "code",
   "execution_count": 6,
   "metadata": {
    "collapsed": false
   },
   "outputs": [
    {
     "name": "stdout",
     "output_type": "stream",
     "text": [
      "+-------+---------+-----------+------------------+------------------+-----------------+-----------------+------------------+-----------------+-----------------+\n",
      "|summary|Ship_name|Cruise_line|               Age|           Tonnage|       passengers|           length|            cabins|passenger_density|             crew|\n",
      "+-------+---------+-----------+------------------+------------------+-----------------+-----------------+------------------+-----------------+-----------------+\n",
      "|  count|      158|        158|               158|               158|              158|              158|               158|              158|              158|\n",
      "|   mean| Infinity|       null|15.689873417721518| 71.28467088607599|18.45740506329114|8.130632911392404| 8.830000000000005|39.90094936708861|7.794177215189873|\n",
      "| stddev|     null|       null| 7.615691058751413|37.229540025907866|9.677094775143416|1.793473548054825|4.4714172221480615| 8.63921711391542|3.503486564627034|\n",
      "|    min|Adventure|    Azamara|                 4|             2.329|             0.66|             2.79|              0.33|             17.7|             0.59|\n",
      "|    max|Zuiderdam|   Windstar|                48|             220.0|             54.0|            11.82|              27.0|            71.43|             21.0|\n",
      "+-------+---------+-----------+------------------+------------------+-----------------+-----------------+------------------+-----------------+-----------------+\n",
      "\n"
     ]
    }
   ],
   "source": [
    "df.describe().show()"
   ]
  },
  {
   "cell_type": "code",
   "execution_count": 7,
   "metadata": {},
   "outputs": [
    {
     "data": {
      "text/html": "<div>\n<style scoped>\n    .dataframe tbody tr th:only-of-type {\n        vertical-align: middle;\n    }\n\n    .dataframe tbody tr th {\n        vertical-align: top;\n    }\n\n    .dataframe thead th {\n        text-align: right;\n    }\n</style>\n<table border=\"1\" class=\"dataframe\">\n  <thead>\n    <tr style=\"text-align: right;\">\n      <th></th>\n      <th>Ship_name</th>\n      <th>Cruise_line</th>\n      <th>Age</th>\n      <th>Tonnage</th>\n      <th>passengers</th>\n      <th>length</th>\n      <th>cabins</th>\n      <th>passenger_density</th>\n      <th>crew</th>\n    </tr>\n  </thead>\n  <tbody>\n    <tr>\n      <th>0</th>\n      <td>Journey</td>\n      <td>Azamara</td>\n      <td>6</td>\n      <td>30.277</td>\n      <td>6.94</td>\n      <td>5.94</td>\n      <td>3.55</td>\n      <td>42.64</td>\n      <td>3.55</td>\n    </tr>\n    <tr>\n      <th>1</th>\n      <td>Quest</td>\n      <td>Azamara</td>\n      <td>6</td>\n      <td>30.277</td>\n      <td>6.94</td>\n      <td>5.94</td>\n      <td>3.55</td>\n      <td>42.64</td>\n      <td>3.55</td>\n    </tr>\n    <tr>\n      <th>2</th>\n      <td>Celebration</td>\n      <td>Carnival</td>\n      <td>26</td>\n      <td>47.262</td>\n      <td>14.86</td>\n      <td>7.22</td>\n      <td>7.43</td>\n      <td>31.80</td>\n      <td>6.70</td>\n    </tr>\n    <tr>\n      <th>3</th>\n      <td>Conquest</td>\n      <td>Carnival</td>\n      <td>11</td>\n      <td>110.000</td>\n      <td>29.74</td>\n      <td>9.53</td>\n      <td>14.88</td>\n      <td>36.99</td>\n      <td>19.10</td>\n    </tr>\n    <tr>\n      <th>4</th>\n      <td>Destiny</td>\n      <td>Carnival</td>\n      <td>17</td>\n      <td>101.353</td>\n      <td>26.42</td>\n      <td>8.92</td>\n      <td>13.21</td>\n      <td>38.36</td>\n      <td>10.00</td>\n    </tr>\n  </tbody>\n</table>\n</div>",
      "text/plain": "     Ship_name Cruise_line  Age  Tonnage  passengers  length  cabins  \\\n0      Journey     Azamara    6   30.277        6.94    5.94    3.55   \n1        Quest     Azamara    6   30.277        6.94    5.94    3.55   \n2  Celebration    Carnival   26   47.262       14.86    7.22    7.43   \n3     Conquest    Carnival   11  110.000       29.74    9.53   14.88   \n4      Destiny    Carnival   17  101.353       26.42    8.92   13.21   \n\n   passenger_density   crew  \n0              42.64   3.55  \n1              42.64   3.55  \n2              31.80   6.70  \n3              36.99  19.10  \n4              38.36  10.00  "
     },
     "execution_count": 7,
     "metadata": {},
     "output_type": "execute_result"
    }
   ],
   "source": [
    "df.toPandas().head()"
   ]
  },
  {
   "cell_type": "markdown",
   "metadata": {},
   "source": [
    "## Dealing with the Cruise_line categorical variable\n",
    "Ship Name is a useless arbitrary string, but the cruise_line itself may be useful. Let's make it into a categorical variable!"
   ]
  },
  {
   "cell_type": "code",
   "execution_count": 8,
   "metadata": {
    "collapsed": false
   },
   "outputs": [
    {
     "name": "stdout",
     "output_type": "stream",
     "text": [
      "+-----------------+-----+\n",
      "|      Cruise_line|count|\n",
      "+-----------------+-----+\n",
      "|            Costa|   11|\n",
      "|              P&O|    6|\n",
      "|           Cunard|    3|\n",
      "|Regent_Seven_Seas|    5|\n",
      "|              MSC|    8|\n",
      "|         Carnival|   22|\n",
      "|          Crystal|    2|\n",
      "|           Orient|    1|\n",
      "|         Princess|   17|\n",
      "|        Silversea|    4|\n",
      "|         Seabourn|    3|\n",
      "| Holland_American|   14|\n",
      "|         Windstar|    3|\n",
      "|           Disney|    2|\n",
      "|        Norwegian|   13|\n",
      "|          Oceania|    3|\n",
      "|          Azamara|    2|\n",
      "|        Celebrity|   10|\n",
      "|             Star|    6|\n",
      "|  Royal_Caribbean|   23|\n",
      "+-----------------+-----+\n",
      "\n"
     ]
    }
   ],
   "source": [
    "df.groupBy('Cruise_line').count().show()"
   ]
  },
  {
   "cell_type": "code",
   "execution_count": 9,
   "metadata": {
    "collapsed": false
   },
   "outputs": [
    {
     "data": {
      "text/plain": "[Row(Ship_name='Journey', Cruise_line='Azamara', Age=6, Tonnage=30.276999999999997, passengers=6.94, length=5.94, cabins=3.55, passenger_density=42.64, crew=3.55, cruise_cat=16.0),\n Row(Ship_name='Quest', Cruise_line='Azamara', Age=6, Tonnage=30.276999999999997, passengers=6.94, length=5.94, cabins=3.55, passenger_density=42.64, crew=3.55, cruise_cat=16.0),\n Row(Ship_name='Celebration', Cruise_line='Carnival', Age=26, Tonnage=47.262, passengers=14.86, length=7.22, cabins=7.43, passenger_density=31.8, crew=6.7, cruise_cat=1.0),\n Row(Ship_name='Conquest', Cruise_line='Carnival', Age=11, Tonnage=110.0, passengers=29.74, length=9.53, cabins=14.88, passenger_density=36.99, crew=19.1, cruise_cat=1.0),\n Row(Ship_name='Destiny', Cruise_line='Carnival', Age=17, Tonnage=101.353, passengers=26.42, length=8.92, cabins=13.21, passenger_density=38.36, crew=10.0, cruise_cat=1.0)]"
     },
     "execution_count": 9,
     "metadata": {},
     "output_type": "execute_result"
    }
   ],
   "source": [
    "from pyspark.ml.feature import StringIndexer\n",
    "indexer = StringIndexer(inputCol=\"Cruise_line\", outputCol=\"cruise_cat\")\n",
    "indexed = indexer.fit(df).transform(df)\n",
    "indexed.head(5)"
   ]
  },
  {
   "cell_type": "code",
   "execution_count": 11,
   "metadata": {},
   "outputs": [
    {
     "data": {
      "text/html": "<div>\n<style scoped>\n    .dataframe tbody tr th:only-of-type {\n        vertical-align: middle;\n    }\n\n    .dataframe tbody tr th {\n        vertical-align: top;\n    }\n\n    .dataframe thead th {\n        text-align: right;\n    }\n</style>\n<table border=\"1\" class=\"dataframe\">\n  <thead>\n    <tr style=\"text-align: right;\">\n      <th></th>\n      <th>Ship_name</th>\n      <th>Cruise_line</th>\n      <th>Age</th>\n      <th>Tonnage</th>\n      <th>passengers</th>\n      <th>length</th>\n      <th>cabins</th>\n      <th>passenger_density</th>\n      <th>crew</th>\n      <th>cruise_cat</th>\n    </tr>\n  </thead>\n  <tbody>\n    <tr>\n      <th>0</th>\n      <td>Journey</td>\n      <td>Azamara</td>\n      <td>6</td>\n      <td>30.277</td>\n      <td>6.94</td>\n      <td>5.94</td>\n      <td>3.55</td>\n      <td>42.64</td>\n      <td>3.55</td>\n      <td>16.0</td>\n    </tr>\n    <tr>\n      <th>1</th>\n      <td>Quest</td>\n      <td>Azamara</td>\n      <td>6</td>\n      <td>30.277</td>\n      <td>6.94</td>\n      <td>5.94</td>\n      <td>3.55</td>\n      <td>42.64</td>\n      <td>3.55</td>\n      <td>16.0</td>\n    </tr>\n    <tr>\n      <th>2</th>\n      <td>Celebration</td>\n      <td>Carnival</td>\n      <td>26</td>\n      <td>47.262</td>\n      <td>14.86</td>\n      <td>7.22</td>\n      <td>7.43</td>\n      <td>31.80</td>\n      <td>6.70</td>\n      <td>1.0</td>\n    </tr>\n    <tr>\n      <th>3</th>\n      <td>Conquest</td>\n      <td>Carnival</td>\n      <td>11</td>\n      <td>110.000</td>\n      <td>29.74</td>\n      <td>9.53</td>\n      <td>14.88</td>\n      <td>36.99</td>\n      <td>19.10</td>\n      <td>1.0</td>\n    </tr>\n    <tr>\n      <th>4</th>\n      <td>Destiny</td>\n      <td>Carnival</td>\n      <td>17</td>\n      <td>101.353</td>\n      <td>26.42</td>\n      <td>8.92</td>\n      <td>13.21</td>\n      <td>38.36</td>\n      <td>10.00</td>\n      <td>1.0</td>\n    </tr>\n  </tbody>\n</table>\n</div>",
      "text/plain": "     Ship_name Cruise_line  Age  Tonnage  passengers  length  cabins  \\\n0      Journey     Azamara    6   30.277        6.94    5.94    3.55   \n1        Quest     Azamara    6   30.277        6.94    5.94    3.55   \n2  Celebration    Carnival   26   47.262       14.86    7.22    7.43   \n3     Conquest    Carnival   11  110.000       29.74    9.53   14.88   \n4      Destiny    Carnival   17  101.353       26.42    8.92   13.21   \n\n   passenger_density   crew  cruise_cat  \n0              42.64   3.55        16.0  \n1              42.64   3.55        16.0  \n2              31.80   6.70         1.0  \n3              36.99  19.10         1.0  \n4              38.36  10.00         1.0  "
     },
     "execution_count": 11,
     "metadata": {},
     "output_type": "execute_result"
    }
   ],
   "source": [
    "indexed.toPandas().head()"
   ]
  },
  {
   "cell_type": "code",
   "execution_count": 12,
   "metadata": {
    "collapsed": true
   },
   "outputs": [],
   "source": [
    "from pyspark.ml.linalg import Vectors\n",
    "from pyspark.ml.feature import VectorAssembler"
   ]
  },
  {
   "cell_type": "code",
   "execution_count": 13,
   "metadata": {
    "collapsed": false
   },
   "outputs": [
    {
     "data": {
      "text/plain": "['Ship_name',\n 'Cruise_line',\n 'Age',\n 'Tonnage',\n 'passengers',\n 'length',\n 'cabins',\n 'passenger_density',\n 'crew',\n 'cruise_cat']"
     },
     "execution_count": 13,
     "metadata": {},
     "output_type": "execute_result"
    }
   ],
   "source": [
    "indexed.columns"
   ]
  },
  {
   "cell_type": "code",
   "execution_count": 14,
   "metadata": {
    "collapsed": true
   },
   "outputs": [],
   "source": [
    "assembler = VectorAssembler(\n",
    "  inputCols=['Age',\n",
    "             'Tonnage',\n",
    "             'passengers',\n",
    "             'length',\n",
    "             'cabins',\n",
    "             'passenger_density',\n",
    "             'cruise_cat'],\n",
    "    outputCol=\"features\")"
   ]
  },
  {
   "cell_type": "code",
   "execution_count": 15,
   "metadata": {
    "collapsed": false
   },
   "outputs": [],
   "source": [
    "output = assembler.transform(indexed)"
   ]
  },
  {
   "cell_type": "code",
   "execution_count": 16,
   "metadata": {},
   "outputs": [
    {
     "data": {
      "text/html": "<div>\n<style scoped>\n    .dataframe tbody tr th:only-of-type {\n        vertical-align: middle;\n    }\n\n    .dataframe tbody tr th {\n        vertical-align: top;\n    }\n\n    .dataframe thead th {\n        text-align: right;\n    }\n</style>\n<table border=\"1\" class=\"dataframe\">\n  <thead>\n    <tr style=\"text-align: right;\">\n      <th></th>\n      <th>Ship_name</th>\n      <th>Cruise_line</th>\n      <th>Age</th>\n      <th>Tonnage</th>\n      <th>passengers</th>\n      <th>length</th>\n      <th>cabins</th>\n      <th>passenger_density</th>\n      <th>crew</th>\n      <th>cruise_cat</th>\n      <th>features</th>\n    </tr>\n  </thead>\n  <tbody>\n    <tr>\n      <th>0</th>\n      <td>Journey</td>\n      <td>Azamara</td>\n      <td>6</td>\n      <td>30.277</td>\n      <td>6.94</td>\n      <td>5.94</td>\n      <td>3.55</td>\n      <td>42.64</td>\n      <td>3.55</td>\n      <td>16.0</td>\n      <td>[6.0, 30.276999999999997, 6.94, 5.94, 3.55, 42...</td>\n    </tr>\n    <tr>\n      <th>1</th>\n      <td>Quest</td>\n      <td>Azamara</td>\n      <td>6</td>\n      <td>30.277</td>\n      <td>6.94</td>\n      <td>5.94</td>\n      <td>3.55</td>\n      <td>42.64</td>\n      <td>3.55</td>\n      <td>16.0</td>\n      <td>[6.0, 30.276999999999997, 6.94, 5.94, 3.55, 42...</td>\n    </tr>\n    <tr>\n      <th>2</th>\n      <td>Celebration</td>\n      <td>Carnival</td>\n      <td>26</td>\n      <td>47.262</td>\n      <td>14.86</td>\n      <td>7.22</td>\n      <td>7.43</td>\n      <td>31.80</td>\n      <td>6.70</td>\n      <td>1.0</td>\n      <td>[26.0, 47.262, 14.86, 7.22, 7.43, 31.8, 1.0]</td>\n    </tr>\n    <tr>\n      <th>3</th>\n      <td>Conquest</td>\n      <td>Carnival</td>\n      <td>11</td>\n      <td>110.000</td>\n      <td>29.74</td>\n      <td>9.53</td>\n      <td>14.88</td>\n      <td>36.99</td>\n      <td>19.10</td>\n      <td>1.0</td>\n      <td>[11.0, 110.0, 29.74, 9.53, 14.88, 36.99, 1.0]</td>\n    </tr>\n    <tr>\n      <th>4</th>\n      <td>Destiny</td>\n      <td>Carnival</td>\n      <td>17</td>\n      <td>101.353</td>\n      <td>26.42</td>\n      <td>8.92</td>\n      <td>13.21</td>\n      <td>38.36</td>\n      <td>10.00</td>\n      <td>1.0</td>\n      <td>[17.0, 101.353, 26.42, 8.92, 13.21, 38.36, 1.0]</td>\n    </tr>\n  </tbody>\n</table>\n</div>",
      "text/plain": "     Ship_name Cruise_line  Age  Tonnage  passengers  length  cabins  \\\n0      Journey     Azamara    6   30.277        6.94    5.94    3.55   \n1        Quest     Azamara    6   30.277        6.94    5.94    3.55   \n2  Celebration    Carnival   26   47.262       14.86    7.22    7.43   \n3     Conquest    Carnival   11  110.000       29.74    9.53   14.88   \n4      Destiny    Carnival   17  101.353       26.42    8.92   13.21   \n\n   passenger_density   crew  cruise_cat  \\\n0              42.64   3.55        16.0   \n1              42.64   3.55        16.0   \n2              31.80   6.70         1.0   \n3              36.99  19.10         1.0   \n4              38.36  10.00         1.0   \n\n                                            features  \n0  [6.0, 30.276999999999997, 6.94, 5.94, 3.55, 42...  \n1  [6.0, 30.276999999999997, 6.94, 5.94, 3.55, 42...  \n2       [26.0, 47.262, 14.86, 7.22, 7.43, 31.8, 1.0]  \n3      [11.0, 110.0, 29.74, 9.53, 14.88, 36.99, 1.0]  \n4    [17.0, 101.353, 26.42, 8.92, 13.21, 38.36, 1.0]  "
     },
     "execution_count": 16,
     "metadata": {},
     "output_type": "execute_result"
    }
   ],
   "source": [
    "output.toPandas().head()"
   ]
  },
  {
   "cell_type": "code",
   "execution_count": 17,
   "metadata": {
    "collapsed": false
   },
   "outputs": [
    {
     "name": "stdout",
     "output_type": "stream",
     "text": [
      "+--------------------+----+\n",
      "|            features|crew|\n",
      "+--------------------+----+\n",
      "|[6.0,30.276999999...|3.55|\n",
      "|[6.0,30.276999999...|3.55|\n",
      "|[26.0,47.262,14.8...| 6.7|\n",
      "|[11.0,110.0,29.74...|19.1|\n",
      "|[17.0,101.353,26....|10.0|\n",
      "|[22.0,70.367,20.5...| 9.2|\n",
      "|[15.0,70.367,20.5...| 9.2|\n",
      "|[23.0,70.367,20.5...| 9.2|\n",
      "|[19.0,70.367,20.5...| 9.2|\n",
      "|[6.0,110.23899999...|11.5|\n",
      "|[10.0,110.0,29.74...|11.6|\n",
      "|[28.0,46.052,14.5...| 6.6|\n",
      "|[18.0,70.367,20.5...| 9.2|\n",
      "|[17.0,70.367,20.5...| 9.2|\n",
      "|[11.0,86.0,21.24,...| 9.3|\n",
      "|[8.0,110.0,29.74,...|11.6|\n",
      "|[9.0,88.5,21.24,9...|10.3|\n",
      "|[15.0,70.367,20.5...| 9.2|\n",
      "|[12.0,88.5,21.24,...| 9.3|\n",
      "|[20.0,70.367,20.5...| 9.2|\n",
      "+--------------------+----+\n",
      "only showing top 20 rows\n",
      "\n"
     ]
    }
   ],
   "source": [
    "output.select(\"features\", \"crew\").show()"
   ]
  },
  {
   "cell_type": "code",
   "execution_count": 18,
   "metadata": {
    "collapsed": true
   },
   "outputs": [],
   "source": [
    "final_data = output.select(\"features\", \"crew\")"
   ]
  },
  {
   "cell_type": "code",
   "execution_count": 19,
   "metadata": {
    "collapsed": true
   },
   "outputs": [],
   "source": [
    "train_data,test_data = final_data.randomSplit([0.7,0.3])"
   ]
  },
  {
   "cell_type": "code",
   "execution_count": 20,
   "metadata": {
    "collapsed": false
   },
   "outputs": [],
   "source": [
    "from pyspark.ml.regression import LinearRegression\n",
    "# Create a Linear Regression Model object\n",
    "lr = LinearRegression(labelCol='crew')"
   ]
  },
  {
   "cell_type": "code",
   "execution_count": 21,
   "metadata": {
    "collapsed": true
   },
   "outputs": [],
   "source": [
    "# Fit the model to the data and call this model lrModel\n",
    "lrModel = lr.fit(train_data)"
   ]
  },
  {
   "cell_type": "code",
   "execution_count": 22,
   "metadata": {
    "collapsed": false
   },
   "outputs": [
    {
     "name": "stdout",
     "output_type": "stream",
     "text": [
      "Coefficients: [-0.0030235876737713684,0.0174567703778408,-0.1645004748918474,0.4798775223361547,0.8000524643203888,-0.011247606915279188,0.04824961591282657] Intercept: -1.1704216872375302\n"
     ]
    }
   ],
   "source": [
    "# Print the coefficients and intercept for linear regression\n",
    "print(\"Coefficients: {} Intercept: {}\".format(lrModel.coefficients,lrModel.intercept))"
   ]
  },
  {
   "cell_type": "code",
   "execution_count": 23,
   "metadata": {
    "collapsed": true
   },
   "outputs": [],
   "source": [
    "test_results = lrModel.evaluate(test_data)"
   ]
  },
  {
   "cell_type": "code",
   "execution_count": 24,
   "metadata": {
    "collapsed": false
   },
   "outputs": [
    {
     "name": "stdout",
     "output_type": "stream",
     "text": [
      "RMSE: 1.188193877093472\n",
      "MSE: 1.4118046895624166\n",
      "R2: 0.8752559963614053\n"
     ]
    }
   ],
   "source": [
    "print(\"RMSE: {}\".format(test_results.rootMeanSquaredError))\n",
    "print(\"MSE: {}\".format(test_results.meanSquaredError))\n",
    "print(\"R2: {}\".format(test_results.r2))"
   ]
  },
  {
   "cell_type": "code",
   "execution_count": 25,
   "metadata": {
    "collapsed": true
   },
   "outputs": [],
   "source": [
    "# R2 of 0.86 is pretty good, let's check the data a little closer\n",
    "from pyspark.sql.functions import corr"
   ]
  },
  {
   "cell_type": "code",
   "execution_count": 26,
   "metadata": {
    "collapsed": false
   },
   "outputs": [
    {
     "name": "stdout",
     "output_type": "stream",
     "text": [
      "+----------------------+\n",
      "|corr(crew, passengers)|\n",
      "+----------------------+\n",
      "|    0.9152341306065384|\n",
      "+----------------------+\n",
      "\n"
     ]
    }
   ],
   "source": [
    "df.select(corr('crew','passengers')).show()"
   ]
  },
  {
   "cell_type": "code",
   "execution_count": 27,
   "metadata": {
    "collapsed": false
   },
   "outputs": [
    {
     "name": "stdout",
     "output_type": "stream",
     "text": [
      "+------------------+\n",
      "|corr(crew, cabins)|\n",
      "+------------------+\n",
      "|0.9508226063578497|\n",
      "+------------------+\n",
      "\n"
     ]
    }
   ],
   "source": [
    "df.select(corr('crew','cabins')).show()"
   ]
  },
  {
   "cell_type": "markdown",
   "metadata": {},
   "source": [
    "Okay, so maybe it does make sense! Well that is good news for us, this is information we can bring to the company!\n"
   ]
  },
  {
   "cell_type": "code",
   "execution_count": 28,
   "metadata": {},
   "outputs": [
    {
     "name": "stdout",
     "output_type": "stream",
     "text": [
      "+--------------------+------------------+\n",
      "|            features|        prediction|\n",
      "+--------------------+------------------+\n",
      "|[5.0,115.0,35.74,...|11.542492386393354|\n",
      "|[6.0,93.0,23.94,9...|10.460250086399865|\n",
      "|[6.0,110.23899999...|10.822934913171952|\n",
      "|[6.0,112.0,38.0,9...|10.989780329141329|\n",
      "|[6.0,113.0,37.82,...|11.343516723088582|\n",
      "|[6.0,158.0,43.7,1...|  13.7737887716372|\n",
      "|[7.0,116.0,31.0,9...|12.429949729169525|\n",
      "|[8.0,77.499,19.5,...| 8.508295049827293|\n",
      "|[8.0,110.0,29.74,...|11.926006247628907|\n",
      "|[9.0,88.5,21.24,9...| 9.550639662367443|\n",
      "|[9.0,113.0,26.74,...|11.257750426752922|\n",
      "|[9.0,116.0,26.0,9...| 11.10928732518781|\n",
      "|[10.0,46.0,7.0,6....| 2.865541342603115|\n",
      "|[10.0,58.825,15.6...| 7.243422960680556|\n",
      "|[10.0,86.0,21.14,...| 9.662158317206378|\n",
      "|[10.0,90.09,25.01...| 8.869699841468865|\n",
      "|[10.0,105.0,27.2,...|11.084602226250396|\n",
      "|[10.0,110.0,29.74...|11.919959072281365|\n",
      "|[10.0,138.0,31.14...|12.938905618846718|\n",
      "|[11.0,110.0,29.74...| 11.93453355969752|\n",
      "+--------------------+------------------+\n",
      "only showing top 20 rows\n",
      "\n"
     ]
    }
   ],
   "source": [
    "unlabeled_data = test_data.select('features')\r\n",
    "predictions = lrModel.transform(unlabeled_data)\r\n",
    "predictions.show()"
   ]
  },
  {
   "cell_type": "markdown",
   "metadata": {},
   "source": [
    "Hope you enjoyed your first consulting gig!\n",
    "# Great Job!"
   ]
  }
 ],
 "metadata": {
  "anaconda-cloud": {},
  "kernelspec": {
   "display_name": "Python 3.8.5 64-bit (conda)",
   "name": "python385jvsc74a57bd0ef7f9a8012d9131766e31894c279374cc63c73121ed4db3b9e67a294a4bf0e74"
  },
  "language_info": {
   "codemirror_mode": {
    "name": "ipython",
    "version": 3
   },
   "file_extension": ".py",
   "mimetype": "text/x-python",
   "name": "python",
   "nbconvert_exporter": "python",
   "pygments_lexer": "ipython3",
   "version": "3.8.5"
  }
 },
 "nbformat": 4,
 "nbformat_minor": 0
}